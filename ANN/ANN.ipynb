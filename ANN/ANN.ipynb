{
 "cells": [
  {
   "cell_type": "code",
   "execution_count": 73,
   "metadata": {},
   "outputs": [],
   "source": [
    "from keras.datasets import mnist\n",
    "import numpy as np\n",
    "import matplotlib.pyplot as plt\n",
    "# Load pre-shuffled MNIST data into train and test sets\n",
    "(X_train, y_train), (X_test, y_test) = mnist.load_data()"
   ]
  },
  {
   "cell_type": "code",
   "execution_count": 74,
   "metadata": {},
   "outputs": [
    {
     "name": "stdout",
     "output_type": "stream",
     "text": [
      "(60000, 28, 28)\n",
      "(60000,)\n",
      "(10000, 28, 28)\n"
     ]
    }
   ],
   "source": [
    "print (X_train.shape)\n",
    "print (y_train.shape)\n",
    "print (X_test.shape)"
   ]
  },
  {
   "cell_type": "code",
   "execution_count": 75,
   "metadata": {
    "scrolled": true
   },
   "outputs": [
    {
     "name": "stdout",
     "output_type": "stream",
     "text": [
      "60000\n",
      "(784, 50000)\n"
     ]
    }
   ],
   "source": [
    "X_train = np.reshape(X_train,(60000,28*28))\n",
    "print (X_train.shape[0])\n",
    "index_data = np.arange(X_train.shape[0])\n",
    "np.random.shuffle(index_data)\n",
    "index_train = index_data[:50000]\n",
    "index_test = index_data[50000:]\n",
    "x_train = X_train[index_train].T\n",
    "Y_train = y_train[index_train]\n",
    "x_test = X_train[index_test].T\n",
    "Y_test = y_train[index_test]\n",
    "print (x_train.shape)"
   ]
  },
  {
   "cell_type": "code",
   "execution_count": 76,
   "metadata": {},
   "outputs": [],
   "source": [
    "def normalize_MNIST_images(x):\n",
    "    x = 2 * (x.astype(np.float64) - 0) / 255 - 1\n",
    "    return x\n",
    "x_train = normalize_MNIST_images(x_train)\n",
    "x_test = normalize_MNIST_images(x_test)"
   ]
  },
  {
   "cell_type": "code",
   "execution_count": 77,
   "metadata": {},
   "outputs": [],
   "source": [
    "def softmax(a):\n",
    "    '''\n",
    "    softmax activation function\n",
    "    '''\n",
    "    M = np.max(a, axis = 0)\n",
    "    exp_a = np.exp(a - M)\n",
    "    y = exp_a / np.sum(exp_a, axis = 0)\n",
    "    return y\n",
    "def softmaxp(a, e):\n",
    "    out_softmax = softmax(a)\n",
    "    delta = out_softmax * e - (out_softmax * e).sum(axis = 0) * out_softmax\n",
    "    #print delta.shape\n",
    "    return delta"
   ]
  },
  {
   "cell_type": "code",
   "execution_count": 78,
   "metadata": {},
   "outputs": [],
   "source": [
    "def relu(a):\n",
    "    return np.maximum(0, a)\n",
    "def relup(a, e):\n",
    "    return e * (a > 0)"
   ]
  },
  {
   "cell_type": "code",
   "execution_count": 79,
   "metadata": {},
   "outputs": [
    {
     "name": "stdout",
     "output_type": "stream",
     "text": [
      "[[0. 0. 0. ... 0. 0. 0.]\n",
      " [0. 1. 0. ... 0. 0. 0.]\n",
      " [0. 0. 0. ... 0. 0. 0.]\n",
      " ...\n",
      " [0. 0. 0. ... 1. 0. 1.]\n",
      " [0. 0. 0. ... 0. 0. 0.]\n",
      " [0. 0. 1. ... 0. 0. 0.]]\n"
     ]
    }
   ],
   "source": [
    "def onehot2label(d):\n",
    "    lbl = d.argmax(axis=0) \n",
    "    return lbl\n",
    "def label2onehot(lbl):\n",
    "    '''\n",
    "    Convert sigle digit label to one-hot ecoding format\n",
    "    '''\n",
    "    d = np.zeros((lbl.max() + 1, lbl.size))\n",
    "    d[lbl, np.arange(0, lbl.size)] = 1\n",
    "    return d\n",
    "dtrain = label2onehot(Y_train)\n",
    "dtest = label2onehot(Y_test)\n",
    "print (dtrain)"
   ]
  },
  {
   "cell_type": "markdown",
   "metadata": {},
   "source": [
    "### 1 hidden layer"
   ]
  },
  {
   "cell_type": "code",
   "execution_count": 80,
   "metadata": {},
   "outputs": [
    {
     "name": "stdout",
     "output_type": "stream",
     "text": [
      "(784, 50000)\n",
      "10\n"
     ]
    }
   ],
   "source": [
    "def init_shallow(Ni, Nh, No):\n",
    "    '''\n",
    "    Initialize all the weights and bias\n",
    "    '''\n",
    "    b1 = np.random.randn(Nh, 1) / np.sqrt((Ni+1.)/2.)\n",
    "    W1 = np.random.randn(Nh, Ni) / np.sqrt((Ni+1.)/2.)\n",
    "    b2 = np.random.randn(No, 1) / np.sqrt((Nh+1.))\n",
    "    W2 = np.random.randn(No, Nh) / np.sqrt((Nh+1.))\n",
    "    return W1, b1, W2, b2\n",
    "\n",
    "Ni = x_train.shape[0]\n",
    "Nh = 64\n",
    "No = dtrain.shape[0]\n",
    "print (x_train.shape)\n",
    "netinit = init_shallow(Ni, Nh, No)\n",
    "print (No)"
   ]
  },
  {
   "cell_type": "code",
   "execution_count": 81,
   "metadata": {},
   "outputs": [],
   "source": [
    "def forwardprop_shallow(x, net):\n",
    "    W1 = net[0]\n",
    "    b1 = net[1]\n",
    "    W2 = net[2]\n",
    "    b2 = net[3]\n",
    "    a1 = W1.dot(x) + b1\n",
    "    h1 = relu(a1)\n",
    "    a2 = W2.dot(h1) + b2\n",
    "    y = softmax(a2)\n",
    "    \n",
    "    return y\n",
    "\n",
    "yinit = forwardprop_shallow(x_train, netinit)"
   ]
  },
  {
   "cell_type": "code",
   "execution_count": 82,
   "metadata": {},
   "outputs": [
    {
     "name": "stdout",
     "output_type": "stream",
     "text": [
      "0.3897906361402835 should be around .36\n"
     ]
    }
   ],
   "source": [
    "def eval_loss(y, d):\n",
    "    E = - np.sum(d * np.log(y) + (1 - d) * np.log(1-y), axis = 0) / 10\n",
    "    total_loss = np.mean(E)\n",
    "    return total_loss\n",
    "\n",
    "print(eval_loss(yinit, dtrain), 'should be around .36')"
   ]
  },
  {
   "cell_type": "code",
   "execution_count": 83,
   "metadata": {},
   "outputs": [],
   "source": [
    "def eval_perfs(y, lbl):\n",
    "    pred_y = onehot2label(y)\n",
    "    return np.sum(pred_y != lbl) / float(pred_y.size)"
   ]
  },
  {
   "cell_type": "code",
   "execution_count": 84,
   "metadata": {},
   "outputs": [],
   "source": [
    "def update_shallow(x, d, net, gamma=.05):\n",
    "    W1 = net[0]\n",
    "    b1 = net[1]\n",
    "    W2 = net[2]\n",
    "    b2 = net[3]\n",
    "    Ni = W1.shape[1]\n",
    "    Nh = W1.shape[0]\n",
    "    No = W2.shape[0]\n",
    "    gamma = gamma / x.shape[1] # normalized by the training dataset size \n",
    "    a1 = W1.dot(x) + b1\n",
    "    h1 = relu(a1)\n",
    "    a2 = W2.dot(h1) + b2\n",
    "    y = softmax(a2)\n",
    "    ep = -d / y + (1 - d) / (1 - y)\n",
    "    delta2 = softmaxp(a2, ep)\n",
    "    delta1 = relup(a1, (W2.T.dot(delta2) + b2.T.dot(delta2)))\n",
    "    W2 = W2 - gamma * delta2.dot(h1.T)\n",
    "    W1 = W1 - gamma * delta1.dot(x.T)\n",
    "    b2 = b2 - gamma * delta2.sum(axis=1).reshape(10,1)\n",
    "    b1 = b1 - gamma * delta1.sum(axis=1).reshape(64,1)\n",
    "    return W1, b1, W2, b2\n",
    "\n",
    "# print (update_shallow(x_train, dtrain, netinit, gamma=.05))"
   ]
  },
  {
   "cell_type": "code",
   "execution_count": null,
   "metadata": {},
   "outputs": [],
   "source": [
    "\n"
   ]
  },
  {
   "cell_type": "code",
   "execution_count": 85,
   "metadata": {},
   "outputs": [],
   "source": [
    "# print (\"===\"*7 + \"Start Training\" + \"===\"*7)\n",
    "\n",
    "# print (\"===\"*7 + \"Training Ends\" + \"===\"*7)"
   ]
  },
  {
   "cell_type": "code",
   "execution_count": 86,
   "metadata": {},
   "outputs": [
    {
     "name": "stdout",
     "output_type": "stream",
     "text": [
      "loss: 0.3897906361402835\n",
      "error: 0.86892\n"
     ]
    },
    {
     "data": {
      "image/png": "[encoded data removed]",
      "text/plain": [
       "<matplotlib.figure.Figure at 0x1111d7588>"
      ]
     },
     "metadata": {},
     "output_type": "display_data"
    },
    {
     "data": {
      "image/png": "[encoded data removed]",
      "text/plain": [
       "<matplotlib.figure.Figure at 0x184d4e40f0>"
      ]
     },
     "metadata": {},
     "output_type": "display_data"
    }
   ],
   "source": [
    "train_loss_list = []\n",
    "train_error_list = []\n",
    "test_loss_list = []\n",
    "test_error_list = []\n",
    "def backprop_shallow(x, d, net, T, gamma): \n",
    "    lbl = onehot2label(d)\n",
    "    y = forwardprop_shallow(x, net)\n",
    "    lbltest = onehot2label(dtest)\n",
    "    y2 = forwardprop_shallow(x_test, net)\n",
    "    \n",
    "    loss1 = eval_loss(y, d)\n",
    "    error1 = eval_perfs(y, lbl)\n",
    "    loss2 = eval_loss(y2, dtest)\n",
    "    error2 = eval_perfs(y2, lbltest)\n",
    "    print ('loss:', loss1)\n",
    "    print ('error:', error1)\n",
    "    for t in range(0, T):\n",
    "        net = update_shallow(x, d, net, gamma)\n",
    "        y = forwardprop_shallow(x, net)\n",
    "        yt = forwardprop_shallow(x_test, net)\n",
    "        \n",
    "        loss = eval_loss(y, d)\n",
    "        train_loss_list.append(loss)\n",
    "#         print ('loss:', loss)\n",
    "        error = eval_perfs(y, lbl)\n",
    "        train_error_list.append(error)\n",
    "        \n",
    "        losst = eval_loss(yt, dtest)\n",
    "        test_loss_list.append(losst)\n",
    "#         print ('loss:', loss)\n",
    "        errort = eval_perfs(yt, lbltest)\n",
    "        test_error_list.append(errort)\n",
    "#         print('Epoch {0:3d}; Training Loss: {1:0.4f}; Training Error: {2:0.4f}'\\\n",
    "#               .format(t, loss,  error))\n",
    "    return net\n",
    "nettrain = backprop_shallow(x_train, dtrain, netinit, 200,0.01)\n",
    "\n",
    "# test_loss_list = []\n",
    "# test_error_list = []\n",
    "# def backprop_shallow1(x, d, net, T, gamma): \n",
    "#     lbl = onehot2label(d)\n",
    "#     y1 = forwardprop_shallow(x, net)\n",
    "#     loss1 = eval_loss(y1, d)\n",
    "#     error1 = eval_perfs(y1, lbl)\n",
    "#     print ('loss:', loss1)\n",
    "#     print ('error:', error1)\n",
    "#     for t in range(0, T):\n",
    "#         net = update_shallow(x, d, net, gamma)\n",
    "#         y = forwardprop_shallow(x, net)\n",
    "#         loss = eval_loss(y, d)\n",
    "#         test_loss_list.append(loss)\n",
    "# #         print ('loss:', loss)\n",
    "#         error = eval_perfs(y, lbl)\n",
    "#         test_error_list.append(error)\n",
    "# #         print('Epoch {0:3d}; Training Loss: {1:0.4f}; Training Error: {2:0.4f}'\\\n",
    "# #               .format(t, loss,  error))\n",
    "#     return net\n",
    "# nettrain1 = backprop_shallow1(x_test, dtest, netinit, 500,0.01)\n",
    "\n",
    "plt.figure()\n",
    "plt.plot(train_loss_list, color='green')\n",
    "plt.plot(test_loss_list, color='blue')\n",
    "plt.xlabel('Epoch')\n",
    "plt.ylabel('Loss')\n",
    "plt.legend(['Train','Test'],loc='upper right')\n",
    "plt.show()\n",
    "\n",
    "plt.figure()\n",
    "plt.plot(train_error_list, color='green')\n",
    "plt.plot(test_error_list, color='blue')\n",
    "plt.xlabel('Epoch')\n",
    "plt.ylabel('Error')\n",
    "plt.legend(['Train','Test'],loc='upper right')\n",
    "plt.show()"
   ]
  },
  {
   "cell_type": "code",
   "execution_count": 87,
   "metadata": {},
   "outputs": [],
   "source": [
    "# print (train_loss_list)"
   ]
  },
  {
   "cell_type": "code",
   "execution_count": 88,
   "metadata": {},
   "outputs": [],
   "source": [
    "# print (test_loss_list)"
   ]
  },
  {
   "cell_type": "markdown",
   "metadata": {},
   "source": [
    "### 2 hidden laiers"
   ]
  },
  {
   "cell_type": "code",
   "execution_count": 89,
   "metadata": {},
   "outputs": [
    {
     "name": "stdout",
     "output_type": "stream",
     "text": [
      "(784, 50000)\n",
      "10\n"
     ]
    }
   ],
   "source": [
    "def init_shallow(Ni, Nh1, Nh2, No):\n",
    "    '''\n",
    "    Initialize all the weights and bias\n",
    "    '''\n",
    "    b1 = np.random.randn(Nh1, 1) / np.sqrt((Ni+1.)/2.)\n",
    "    W1 = np.random.randn(Nh1, Ni) / np.sqrt((Ni+1.)/2.)\n",
    "    b2 = np.random.randn(Nh2, 1) / np.sqrt((Nh1+1.)/2.)\n",
    "    W2 = np.random.randn(Nh2, Nh1) / np.sqrt((Nh1+1.)/2.)\n",
    "    b3 = np.random.randn(No, 1) / np.sqrt((Nh2+1.))\n",
    "    W3 = np.random.randn(No, Nh2) / np.sqrt((Nh2+1.))\n",
    "    return W1, b1, W2, b2, W3, b3\n",
    "\n",
    "Ni = x_train.shape[0]\n",
    "Nh1 = 64\n",
    "Nh2 = 32\n",
    "No = dtrain.shape[0]\n",
    "print (x_train.shape)\n",
    "netinit = init_shallow(Ni, Nh1, Nh2, No)\n",
    "print (No)"
   ]
  },
  {
   "cell_type": "code",
   "execution_count": 90,
   "metadata": {},
   "outputs": [],
   "source": [
    "def forwardprop_shallow(x, net):\n",
    "    W1 = net[0]\n",
    "    b1 = net[1]\n",
    "    W2 = net[2]\n",
    "    b2 = net[3]\n",
    "    W3 = net[4]\n",
    "    b3 = net[5]\n",
    "    a1 = W1.dot(x) + b1\n",
    "    h1 = relu(a1)\n",
    "    a2 = W2.dot(h1) + b2\n",
    "    h2 = relu(a2)\n",
    "    a3 = W3.dot(h2) + b3\n",
    "    y = softmax(a3)\n",
    "    \n",
    "    return y\n",
    "\n",
    "yinit = forwardprop_shallow(x_train, netinit)"
   ]
  },
  {
   "cell_type": "code",
   "execution_count": 91,
   "metadata": {},
   "outputs": [
    {
     "name": "stdout",
     "output_type": "stream",
     "text": [
      "0.33814272551118424 should be around .36\n"
     ]
    }
   ],
   "source": [
    "def eval_loss(y, d):\n",
    "    E = - np.sum(d * np.log(y) + (1 - d) * np.log(1-y), axis = 0) / 10\n",
    "    total_loss = np.mean(E)\n",
    "    return total_loss\n",
    "\n",
    "print(eval_loss(yinit, dtrain), 'should be around .36')"
   ]
  },
  {
   "cell_type": "code",
   "execution_count": 92,
   "metadata": {},
   "outputs": [],
   "source": [
    "def eval_perfs(y, lbl):\n",
    "    pred_y = onehot2label(y)\n",
    "    return np.sum(pred_y != lbl) / float(pred_y.size)"
   ]
  },
  {
   "cell_type": "code",
   "execution_count": 93,
   "metadata": {},
   "outputs": [],
   "source": [
    "def update_shallow(x, d, net, gamma=.05):\n",
    "    W1 = net[0]\n",
    "    b1 = net[1]\n",
    "    W2 = net[2]\n",
    "    b2 = net[3]\n",
    "    W3 = net[4]\n",
    "    b3 = net[5]\n",
    "    Ni = W1.shape[1]\n",
    "    Nh1 = W1.shape[0]\n",
    "    Nh2 = W2.shape[0]\n",
    "    No = W3.shape[0]\n",
    "    gamma = gamma / x.shape[1] # normalized by the training dataset size \n",
    "    a1 = W1.dot(x) + b1\n",
    "    h1 = relu(a1)\n",
    "    a2 = W2.dot(h1) + b2\n",
    "    h2 = relu(a2)\n",
    "    a3 = W3.dot(h2) + b3\n",
    "    y = softmax(a3)\n",
    "    ep = -d / y + (1 - d) / (1 - y)\n",
    "    delta3 = softmaxp(a3, ep)\n",
    "    delta2 = relup(a2, (W3.T.dot(delta3) + b3.T.dot(delta3)))\n",
    "    delta1 = relup(a1, (W2.T.dot(delta2) + b2.T.dot(delta2)))\n",
    "    W3 = W3 - gamma * delta3.dot(h2.T)\n",
    "    W2 = W2 - gamma * delta2.dot(h1.T)\n",
    "    W1 = W1 - gamma * delta1.dot(x.T)\n",
    "    b3 = b3 - gamma * delta3.sum(axis=1).reshape(10,1)\n",
    "    b2 = b2 - gamma * delta2.sum(axis=1).reshape(32,1)\n",
    "    b1 = b1 - gamma * delta1.sum(axis=1).reshape(64,1)\n",
    "    return W1, b1, W2, b2, W3, b3\n",
    "\n",
    "# print (update_shallow(x_train, dtrain, netinit, gamma=.05))"
   ]
  },
  {
   "cell_type": "code",
   "execution_count": 94,
   "metadata": {},
   "outputs": [
    {
     "name": "stdout",
     "output_type": "stream",
     "text": [
      "loss: 0.33814272551118424\n",
      "error: 0.93274\n"
     ]
    },
    {
     "data": {
      "image/png": "[encoded data removed]",
      "text/plain": [
       "<matplotlib.figure.Figure at 0x184c3e0ba8>"
      ]
     },
     "metadata": {},
     "output_type": "display_data"
    },
    {
     "data": {
      "image/png": "[encoded data removed]",
      "text/plain": [
       "<matplotlib.figure.Figure at 0x114f92860>"
      ]
     },
     "metadata": {},
     "output_type": "display_data"
    }
   ],
   "source": [
    "train_loss_list = []\n",
    "train_error_list = []\n",
    "test_loss_list = []\n",
    "test_error_list = []\n",
    "def backprop_shallow(x, d, net, T, gamma): \n",
    "    lbl = onehot2label(d)\n",
    "    y = forwardprop_shallow(x, net)\n",
    "    lbltest = onehot2label(dtest)\n",
    "    y2 = forwardprop_shallow(x_test, net)\n",
    "    \n",
    "    loss1 = eval_loss(y, d)\n",
    "    error1 = eval_perfs(y, lbl)\n",
    "    loss2 = eval_loss(y2, dtest)\n",
    "    error2 = eval_perfs(y2, lbltest)\n",
    "    print ('loss:', loss1)\n",
    "    print ('error:', error1)\n",
    "    for t in range(0, T):\n",
    "        net = update_shallow(x, d, net, gamma)\n",
    "        y = forwardprop_shallow(x, net)\n",
    "        yt = forwardprop_shallow(x_test, net)\n",
    "        \n",
    "        loss = eval_loss(y, d)\n",
    "        train_loss_list.append(loss)\n",
    "#         print ('loss:', loss)\n",
    "        error = eval_perfs(y, lbl)\n",
    "        train_error_list.append(error)\n",
    "        \n",
    "        losst = eval_loss(yt, dtest)\n",
    "        test_loss_list.append(losst)\n",
    "#         print ('loss:', loss)\n",
    "        errort = eval_perfs(yt, lbltest)\n",
    "        test_error_list.append(errort)\n",
    "#         print('Epoch {0:3d}; Training Loss: {1:0.4f}; Training Error: {2:0.4f}'\\\n",
    "#               .format(t, loss,  error))\n",
    "    return net\n",
    "nettrain = backprop_shallow(x_train, dtrain, netinit, 200,0.01)\n",
    "\n",
    "# train_loss_list = []\n",
    "# train_error_list = []\n",
    "# test_loss_list = []\n",
    "# test_error_list = []\n",
    "# def backprop_shallow(x, d, net, T, gamma): \n",
    "#     lbl = onehot2label(d)\n",
    "#     y1 = forwardprop_shallow(x, net)\n",
    "#     loss1 = eval_loss(y1, d)\n",
    "#     error1 = eval_perfs(y1, lbl)\n",
    "#     print ('loss:', loss1)\n",
    "#     print ('error:', error1)\n",
    "#     for t in range(0, T):\n",
    "#         net = update_shallow(x, d, net, gamma)\n",
    "#         y = forwardprop_shallow(x, net)\n",
    "#         loss = eval_loss(y, d)\n",
    "#         train_loss_list.append(loss)\n",
    "# #         print ('loss:', loss)\n",
    "#         error = eval_perfs(y, lbl)\n",
    "#         train_error_list.append(error)\n",
    "# #         print('Epoch {0:3d}; Training Loss: {1:0.4f}; Training Error: {2:0.4f}'\\\n",
    "# #               .format(t, loss,  error))\n",
    "#     return net\n",
    "# nettrain = backprop_shallow(x_train, dtrain, netinit, 500,0.01)\n",
    "\n",
    "# test_loss_list = []\n",
    "# test_error_list = []\n",
    "# def backprop_shallow1(x, d, net, T, gamma): \n",
    "#     lbl = onehot2label(d)\n",
    "#     y1 = forwardprop_shallow(x, net)\n",
    "#     loss1 = eval_loss(y1, d)\n",
    "#     error1 = eval_perfs(y1, lbl)\n",
    "#     print ('loss:', loss1)\n",
    "#     print ('error:', error1)\n",
    "#     for t in range(0, T):\n",
    "#         net = update_shallow(x, d, net, gamma)\n",
    "#         y = forwardprop_shallow(x, net)\n",
    "#         loss = eval_loss(y, d)\n",
    "#         test_loss_list.append(loss)\n",
    "# #         print ('loss:', loss)\n",
    "#         error = eval_perfs(y, lbl)\n",
    "#         test_error_list.append(error)\n",
    "# #         print('Epoch {0:3d}; Training Loss: {1:0.4f}; Training Error: {2:0.4f}'\\\n",
    "# #               .format(t, loss,  error))\n",
    "#     return net\n",
    "# nettrain1 = backprop_shallow1(x_test, dtest, netinit, 500,0.01)\n",
    "\n",
    "plt.figure\n",
    "plt.plot(train_loss_list, color='green')\n",
    "plt.plot(test_loss_list, color='blue')\n",
    "plt.xlabel('Epoch')\n",
    "plt.ylabel('Loss')\n",
    "plt.show()\n",
    "\n",
    "plt.figure\n",
    "plt.plot(train_error_list, color='green')\n",
    "plt.plot(test_error_list, color='blue')\n",
    "plt.xlabel('Epoch')\n",
    "plt.ylabel('Error')\n",
    "plt.legend(['Train','Test'],loc='upper right')\n",
    "plt.show()"
   ]
  },
  {
   "cell_type": "code",
   "execution_count": 95,
   "metadata": {},
   "outputs": [],
   "source": [
    "# print (\"===\"*7 + \"Start Training\" + \"===\"*7)\n",
    "# nettrain = backprop_shallow(x_train, dtrain, netinit, 100,0.1)\n",
    "# print (\"===\"*7 + \"Training Ends\" + \"===\"*7)"
   ]
  },
  {
   "cell_type": "code",
   "execution_count": null,
   "metadata": {},
   "outputs": [],
   "source": []
  },
  {
   "cell_type": "code",
   "execution_count": 96,
   "metadata": {},
   "outputs": [
    {
     "name": "stdout",
     "output_type": "stream",
     "text": [
      "[1, 2]\n"
     ]
    }
   ],
   "source": [
    "a=[1,2]\n",
    "b=a[:]\n",
    "a=[]\n",
    "print (b)"
   ]
  },
  {
   "cell_type": "code",
   "execution_count": null,
   "metadata": {},
   "outputs": [],
   "source": []
  },
  {
   "cell_type": "code",
   "execution_count": null,
   "metadata": {},
   "outputs": [],
   "source": []
  }
 ],
 "metadata": {
  "kernelspec": {
   "display_name": "Python 3",
   "language": "python",
   "name": "python3"
  },
  "language_info": {
   "codemirror_mode": {
    "name": "ipython",
    "version": 3
   },
   "file_extension": ".py",
   "mimetype": "text/x-python",
   "name": "python",
   "nbconvert_exporter": "python",
   "pygments_lexer": "ipython3",
   "version": "3.6.4"
  }
 },
 "nbformat": 4,
 "nbformat_minor": 2
}
