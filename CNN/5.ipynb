{
 "cells": [
  {
   "cell_type": "code",
   "execution_count": 1,
   "metadata": {},
   "outputs": [],
   "source": [
    "import torch\n",
    "import torchvision\n",
    "import torchvision.transforms as transforms"
   ]
  },
  {
   "cell_type": "code",
   "execution_count": 2,
   "metadata": {},
   "outputs": [
    {
     "name": "stdout",
     "output_type": "stream",
     "text": [
      "Files already downloaded and verified\n",
      "Files already downloaded and verified\n"
     ]
    }
   ],
   "source": [
    "transform = transforms.Compose(\n",
    "    [transforms.ToTensor(),\n",
    "     transforms.Normalize((0.5, 0.5, 0.5), (0.5, 0.5, 0.5))])\n",
    "\n",
    "trainset = torchvision.datasets.CIFAR10(root='./data', train=True,\n",
    "                                        download=True, transform=transform)\n",
    "trainloader = torch.utils.data.DataLoader(trainset, batch_size=10,\n",
    "                                          shuffle=True, num_workers=2)\n",
    "\n",
    "testset = torchvision.datasets.CIFAR10(root='./data', train=False,\n",
    "                                       download=True, transform=transform)\n",
    "testloader = torch.utils.data.DataLoader(testset, batch_size=10,\n",
    "                                         shuffle=False, num_workers=2)\n",
    "\n",
    "classes = ('plane', 'car', 'bird', 'cat',\n",
    "           'deer', 'dog', 'frog', 'horse', 'ship', 'truck')"
   ]
  },
  {
   "cell_type": "code",
   "execution_count": 3,
   "metadata": {},
   "outputs": [
    {
     "name": "stdout",
     "output_type": "stream",
     "text": [
      "LeNet(\n",
      "  (conv1): Conv2d(3, 6, kernel_size=(5, 5), stride=(1, 1))\n",
      "  (conv2): Conv2d(6, 16, kernel_size=(3, 3), stride=(1, 1))\n",
      "  (conv3): Conv2d(16, 40, kernel_size=(3, 3), stride=(1, 1))\n",
      "  (conv4): Conv2d(40, 100, kernel_size=(3, 3), stride=(1, 1))\n",
      "  (pool): MaxPool2d(kernel_size=2, stride=2, padding=0, dilation=1, ceil_mode=False)\n",
      "  (fc1): Linear(in_features=900, out_features=320, bias=True)\n",
      "  (fc2): Linear(in_features=320, out_features=84, bias=True)\n",
      "  (fc3): Linear(in_features=84, out_features=10, bias=True)\n",
      ")\n"
     ]
    }
   ],
   "source": [
    "import torch.nn as nn\n",
    "import torch.nn.functional as F\n",
    "\n",
    "\n",
    "class LeNet(nn.Module):\n",
    "    def __init__(self):\n",
    "        super(LeNet, self).__init__()\n",
    "        self.conv1 = nn.Conv2d(3, 6, 5)\n",
    "        self.conv2 = nn.Conv2d(6, 16, 3)\n",
    "        self.conv3 = nn.Conv2d(16, 40, 3)\n",
    "        self.conv4 = nn.Conv2d(40, 100, 3)\n",
    "        self.pool = nn.MaxPool2d(2, 2)\n",
    "        self.fc1 = nn.Linear(100 * 3 * 3, 320)\n",
    "        self.fc2 = nn.Linear(320, 84)\n",
    "        self.fc3 = nn.Linear(84, 10)\n",
    "\n",
    "    def forward(self, x):\n",
    "        x = self.pool(F.relu(self.conv1(x))) # 14\n",
    "        x = F.relu(self.conv2(x)) # 12\n",
    "        x = self.pool(F.relu(self.conv3(x))) # 5\n",
    "        x = F.relu(self.conv4(x)) # 3\n",
    "        x = x.view(-1, 100 * 3 * 3)\n",
    "        x = F.relu(self.fc1(x))\n",
    "        x = F.relu(self.fc2(x))\n",
    "        x = self.fc3(x)\n",
    "        return x\n",
    "\n",
    "net = LeNet()\n",
    "print (net)"
   ]
  },
  {
   "cell_type": "code",
   "execution_count": 4,
   "metadata": {},
   "outputs": [],
   "source": [
    "import torch.optim as optim\n",
    "\n",
    "criterion = nn.CrossEntropyLoss()\n",
    "optimizer = optim.SGD(net.parameters(), lr=0.001, momentum=0.9,nesterov = True)"
   ]
  },
  {
   "cell_type": "code",
   "execution_count": 5,
   "metadata": {},
   "outputs": [
    {
     "name": "stdout",
     "output_type": "stream",
     "text": [
      "[1,  1000] loss: 2.303\n",
      "[1,  2000] loss: 2.302\n",
      "[1,  3000] loss: 2.300\n",
      "[1,  4000] loss: 2.243\n",
      "[1,  5000] loss: 2.009\n",
      "[2,  1000] loss: 1.879\n",
      "[2,  2000] loss: 1.753\n",
      "[2,  3000] loss: 1.688\n",
      "[2,  4000] loss: 1.645\n",
      "[2,  5000] loss: 1.610\n",
      "[3,  1000] loss: 1.541\n",
      "[3,  2000] loss: 1.512\n",
      "[3,  3000] loss: 1.465\n",
      "[3,  4000] loss: 1.427\n",
      "[3,  5000] loss: 1.413\n",
      "[4,  1000] loss: 1.374\n",
      "[4,  2000] loss: 1.338\n",
      "[4,  3000] loss: 1.317\n",
      "[4,  4000] loss: 1.298\n",
      "[4,  5000] loss: 1.266\n",
      "[5,  1000] loss: 1.236\n",
      "[5,  2000] loss: 1.192\n",
      "[5,  3000] loss: 1.194\n",
      "[5,  4000] loss: 1.191\n",
      "[5,  5000] loss: 1.159\n",
      "[6,  1000] loss: 1.114\n",
      "[6,  2000] loss: 1.093\n",
      "[6,  3000] loss: 1.088\n",
      "[6,  4000] loss: 1.082\n",
      "[6,  5000] loss: 1.067\n",
      "[7,  1000] loss: 0.989\n",
      "[7,  2000] loss: 0.998\n",
      "[7,  3000] loss: 1.008\n",
      "[7,  4000] loss: 1.002\n",
      "[7,  5000] loss: 0.992\n",
      "[8,  1000] loss: 0.923\n",
      "[8,  2000] loss: 0.918\n",
      "[8,  3000] loss: 0.920\n",
      "[8,  4000] loss: 0.918\n",
      "[8,  5000] loss: 0.933\n",
      "[9,  1000] loss: 0.824\n",
      "[9,  2000] loss: 0.857\n",
      "[9,  3000] loss: 0.852\n",
      "[9,  4000] loss: 0.853\n",
      "[9,  5000] loss: 0.854\n",
      "[10,  1000] loss: 0.762\n",
      "[10,  2000] loss: 0.766\n",
      "[10,  3000] loss: 0.772\n",
      "[10,  4000] loss: 0.797\n",
      "[10,  5000] loss: 0.803\n",
      "[11,  1000] loss: 0.667\n",
      "[11,  2000] loss: 0.715\n",
      "[11,  3000] loss: 0.725\n",
      "[11,  4000] loss: 0.735\n",
      "[11,  5000] loss: 0.749\n",
      "[12,  1000] loss: 0.604\n",
      "[12,  2000] loss: 0.642\n",
      "[12,  3000] loss: 0.654\n",
      "[12,  4000] loss: 0.664\n",
      "[12,  5000] loss: 0.701\n",
      "[13,  1000] loss: 0.532\n",
      "[13,  2000] loss: 0.585\n",
      "[13,  3000] loss: 0.596\n",
      "[13,  4000] loss: 0.605\n",
      "[13,  5000] loss: 0.626\n",
      "[14,  1000] loss: 0.490\n",
      "[14,  2000] loss: 0.497\n",
      "[14,  3000] loss: 0.545\n",
      "[14,  4000] loss: 0.555\n",
      "[14,  5000] loss: 0.575\n",
      "[15,  1000] loss: 0.416\n",
      "[15,  2000] loss: 0.455\n",
      "[15,  3000] loss: 0.471\n",
      "[15,  4000] loss: 0.496\n",
      "[15,  5000] loss: 0.518\n",
      "[16,  1000] loss: 0.359\n",
      "[16,  2000] loss: 0.403\n",
      "[16,  3000] loss: 0.429\n",
      "[16,  4000] loss: 0.455\n",
      "[16,  5000] loss: 0.470\n",
      "[17,  1000] loss: 0.311\n",
      "[17,  2000] loss: 0.357\n",
      "[17,  3000] loss: 0.388\n",
      "[17,  4000] loss: 0.412\n",
      "[17,  5000] loss: 0.423\n",
      "[18,  1000] loss: 0.292\n",
      "[18,  2000] loss: 0.326\n",
      "[18,  3000] loss: 0.329\n",
      "[18,  4000] loss: 0.382\n",
      "[18,  5000] loss: 0.400\n",
      "[19,  1000] loss: 0.272\n",
      "[19,  2000] loss: 0.307\n",
      "[19,  3000] loss: 0.335\n",
      "[19,  4000] loss: 0.359\n",
      "[19,  5000] loss: 0.354\n",
      "[20,  1000] loss: 0.233\n",
      "[20,  2000] loss: 0.266\n",
      "[20,  3000] loss: 0.291\n",
      "[20,  4000] loss: 0.320\n",
      "[20,  5000] loss: 0.329\n",
      "Finished Training\n"
     ]
    }
   ],
   "source": [
    "Loss_train = []\n",
    "Loss_test = []\n",
    "Iter = 20\n",
    "for epoch in range(Iter):  # loop over the dataset multiple times\n",
    "\n",
    "    running_loss = 0.0\n",
    "    train_loss = 0.0\n",
    "    test_loss = 0.0\n",
    "    for i, data in enumerate(trainloader, 0):\n",
    "        # get the inputs\n",
    "        inputs, labels = data\n",
    "\n",
    "        # zero the parameter gradients\n",
    "        optimizer.zero_grad()\n",
    "\n",
    "        # forward + backward + optimize\n",
    "        outputs = net(inputs)\n",
    "        loss = criterion(outputs, labels)\n",
    "        loss.backward()\n",
    "        optimizer.step()\n",
    "\n",
    "        # print statistics\n",
    "        running_loss += loss.item()\n",
    "        train_loss += loss.item()\n",
    "        if i % 1000 == 999:    # print every 1000 mini-batches\n",
    "            print('[%d, %5d] loss: %.3f' %\n",
    "                  (epoch + 1, i + 1, running_loss/1000))\n",
    "            running_loss = 0.0\n",
    "        if i == 4999:\n",
    "            Loss_train.append(train_loss/5000)\n",
    "    for i, data in enumerate(testloader, 0):\n",
    "        inputs, labels = data\n",
    "        outputs = net(inputs)\n",
    "        loss_t = criterion(outputs, labels)\n",
    "        test_loss += loss_t.item()\n",
    "        if i % 1000 == 999:\n",
    "            Loss_test.append(test_loss/1000)\n",
    "            test_loss = 0.0\n",
    "print('Finished Training')"
   ]
  },
  {
   "cell_type": "code",
   "execution_count": 6,
   "metadata": {},
   "outputs": [
    {
     "name": "stdout",
     "output_type": "stream",
     "text": [
      "Accuracy of the network on the 10000 test images: 64 %\n"
     ]
    }
   ],
   "source": [
    "correct = 0\n",
    "total = 0\n",
    "with torch.no_grad():\n",
    "    for data in testloader:\n",
    "        images, labels = data\n",
    "        outputs = net(images)\n",
    "        _, predicted = torch.max(outputs.data, 1)\n",
    "        total += labels.size(0)\n",
    "        correct += (predicted == labels).sum().item()\n",
    "\n",
    "print('Accuracy of the network on the 10000 test images: %d %%' % (\n",
    "    100 * correct / total))"
   ]
  },
  {
   "cell_type": "code",
   "execution_count": 7,
   "metadata": {},
   "outputs": [
    {
     "name": "stdout",
     "output_type": "stream",
     "text": [
      "Accuracy of plane : 66 %\n",
      "Accuracy of   car : 79 %\n",
      "Accuracy of  bird : 48 %\n",
      "Accuracy of   cat : 37 %\n",
      "Accuracy of  deer : 65 %\n",
      "Accuracy of   dog : 59 %\n",
      "Accuracy of  frog : 68 %\n",
      "Accuracy of horse : 72 %\n",
      "Accuracy of  ship : 66 %\n",
      "Accuracy of truck : 76 %\n"
     ]
    }
   ],
   "source": [
    "class_correct = list(0. for i in range(10))\n",
    "class_total = list(0. for i in range(10))\n",
    "with torch.no_grad():\n",
    "    for data in testloader:\n",
    "        images, labels = data\n",
    "        outputs = net(images)\n",
    "        _, predicted = torch.max(outputs, 1)\n",
    "        c = (predicted == labels).squeeze()\n",
    "        for i in range(10):\n",
    "            label = labels[i]\n",
    "            class_correct[label] += c[i].item()\n",
    "            class_total[label] += 1\n",
    "\n",
    "\n",
    "for i in range(10):\n",
    "    print('Accuracy of %5s : %2d %%' % (\n",
    "        classes[i], 100 * class_correct[i] / class_total[i]))"
   ]
  },
  {
   "cell_type": "code",
   "execution_count": 10,
   "metadata": {},
   "outputs": [
    {
     "data": {
      "image/png": "[encoded data removed]",
      "text/plain": [
       "<matplotlib.figure.Figure at 0x1179b20f0>"
      ]
     },
     "metadata": {},
     "output_type": "display_data"
    }
   ],
   "source": [
    "import numpy as np\n",
    "import matplotlib.pyplot as plt\n",
    "\n",
    "X_line = np.arange(Iter)\n",
    "\n",
    "plt.figure(figsize = (5,4))\n",
    "plt.plot(X_line, Loss_train, color = 'green', label = r'$Training \\ Loss$')\n",
    "plt.plot(X_line, Loss_test, color = 'orange', label = r'$Test \\ Loss$')\n",
    "plt.xlim([0, Iter+1])\n",
    "plt.legend(loc='upper right',frameon=False) \n",
    "plt.xlabel('iterations')\n",
    "plt.ylabel('Loss')\n",
    "plt.title('Loss of LeNet with NAG')\n",
    "plt.show()"
   ]
  },
  {
   "cell_type": "code",
   "execution_count": null,
   "metadata": {},
   "outputs": [],
   "source": []
  },
  {
   "cell_type": "code",
   "execution_count": null,
   "metadata": {},
   "outputs": [],
   "source": []
  },
  {
   "cell_type": "code",
   "execution_count": null,
   "metadata": {},
   "outputs": [],
   "source": []
  },
  {
   "cell_type": "code",
   "execution_count": null,
   "metadata": {},
   "outputs": [],
   "source": []
  },
  {
   "cell_type": "code",
   "execution_count": null,
   "metadata": {},
   "outputs": [],
   "source": []
  }
 ],
 "metadata": {
  "kernelspec": {
   "display_name": "Python 3",
   "language": "python",
   "name": "python3"
  },
  "language_info": {
   "codemirror_mode": {
    "name": "ipython",
    "version": 3
   },
   "file_extension": ".py",
   "mimetype": "text/x-python",
   "name": "python",
   "nbconvert_exporter": "python",
   "pygments_lexer": "ipython3",
   "version": "3.6.4"
  }
 },
 "nbformat": 4,
 "nbformat_minor": 2
}
